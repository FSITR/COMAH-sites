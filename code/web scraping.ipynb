{
 "cells": [
  {
   "cell_type": "markdown",
   "id": "included-jurisdiction",
   "metadata": {},
   "source": [
    "# Import modules"
   ]
  },
  {
   "cell_type": "code",
   "execution_count": 4,
   "id": "pharmaceutical-animation",
   "metadata": {},
   "outputs": [],
   "source": [
    "from bs4 import BeautifulSoup as bs\n",
    "import requests\n",
    "import pandas as pd"
   ]
  },
  {
   "cell_type": "markdown",
   "id": "explicit-prime",
   "metadata": {},
   "source": [
    "# Set variables"
   ]
  },
  {
   "cell_type": "code",
   "execution_count": 5,
   "id": "intimate-exhaust",
   "metadata": {},
   "outputs": [],
   "source": [
    "url = 'https://notifications.hse.gov.uk/COMAH2015/Search.aspx'\n",
    "data = {'ctl00$ContentPlaceHolder1$Postcode':'M27 5AP',\n",
    "        'ctl00$ContentPlaceHolder1$btnSearch': 'Search'}"
   ]
  },
  {
   "cell_type": "markdown",
   "id": "blind-tactics",
   "metadata": {},
   "source": [
    "# Define functions"
   ]
  },
  {
   "cell_type": "markdown",
   "id": "nuclear-addition",
   "metadata": {},
   "source": [
    "## Submit information to Form in URL"
   ]
  },
  {
   "cell_type": "code",
   "execution_count": 11,
   "id": "correct-sperm",
   "metadata": {},
   "outputs": [],
   "source": [
    "def submit_form(url,data):\n",
    "    response = requests.get(url)\n",
    "    \n",
    "    soup = bs(response.content)\n",
    "    data['__VIEWSTATE'] = soup.select_one('#__VIEWSTATE')['value']\n",
    "    data['__VIEWSTATEGENERATOR'] = soup.select_one('#__VIEWSTATEGENERATOR')['value']\n",
    "    data['__EVENTVALIDATION'] = soup.select_one('#__EVENTVALIDATION')['value']\n",
    "\n",
    "    response = requests.post(url,data=data)#,headers=headers)\n",
    "    doc = bs(response.text, 'html.parser')\n",
    "    return doc"
   ]
  },
  {
   "cell_type": "code",
   "execution_count": 13,
   "id": "innocent-upgrade",
   "metadata": {},
   "outputs": [],
   "source": [
    "doc = submit_form(url,data)"
   ]
  },
  {
   "cell_type": "code",
   "execution_count": 32,
   "id": "residential-lease",
   "metadata": {
    "jupyter": {
     "source_hidden": true
    }
   },
   "outputs": [],
   "source": [
    "# with requests.Session() as s:\n",
    "#     response = s.get(url)\n",
    "\n",
    "#     soup = bs(response.content)\n",
    "#     data['__VIEWSTATE'] = soup.select_one('#__VIEWSTATE')['value']\n",
    "#     data['__VIEWSTATEGENERATOR'] = soup.select_one('#__VIEWSTATEGENERATOR')['value']\n",
    "#     data['__EVENTVALIDATION'] = soup.select_one('#__EVENTVALIDATION')['value']\n",
    "    \n",
    "#     response = s.post(url,data=data,headers=headers)\n",
    "#     doc = bs(response.text, 'html.parser')"
   ]
  },
  {
   "cell_type": "markdown",
   "id": "ignored-porter",
   "metadata": {},
   "source": [
    "# Peform check"
   ]
  },
  {
   "cell_type": "code",
   "execution_count": 43,
   "id": "interior-automation",
   "metadata": {},
   "outputs": [],
   "source": [
    "def check_results_page(doc):\n",
    "    if 'COMAH 2015: Search' in doc.text:\n",
    "        res = 'ERROR - page is \"Search\"'\n",
    "    elif 'COMAH 2015: Results' in doc.text:   \n",
    "        res = 'OK - page is \"Results\"'\n",
    "    else: \n",
    "        res = 'error'\n",
    "    return res"
   ]
  },
  {
   "cell_type": "code",
   "execution_count": 45,
   "id": "popular-script",
   "metadata": {},
   "outputs": [
    {
     "data": {
      "text/plain": [
       "'OK - page is \"Results\"'"
      ]
     },
     "execution_count": 45,
     "metadata": {},
     "output_type": "execute_result"
    }
   ],
   "source": [
    "check_results_page(doc)"
   ]
  },
  {
   "cell_type": "markdown",
   "id": "legal-player",
   "metadata": {},
   "source": [
    "# Get links from results page"
   ]
  },
  {
   "cell_type": "code",
   "execution_count": 46,
   "id": "transsexual-fifteen",
   "metadata": {},
   "outputs": [],
   "source": [
    "def get_links_from_results(result_html):\n",
    "    res=[]\n",
    "    for link_element in doc.find_all('a'):\n",
    "        link = link_element.get('href')\n",
    "        if link != None and 'PublicInformation' in link:\n",
    "            link = 'https://notifications.hse.gov.uk/comah2015/'+link\n",
    "            res.append(link)\n",
    "    return res"
   ]
  },
  {
   "cell_type": "code",
   "execution_count": 47,
   "id": "clean-jaguar",
   "metadata": {},
   "outputs": [],
   "source": [
    "links = get_links_from_results(doc)"
   ]
  },
  {
   "cell_type": "markdown",
   "id": "cheap-frame",
   "metadata": {},
   "source": [
    "# Extract tables from links"
   ]
  },
  {
   "cell_type": "markdown",
   "id": "macro-earth",
   "metadata": {},
   "source": [
    "continue with a single 'response' for now..."
   ]
  },
  {
   "cell_type": "code",
   "execution_count": 48,
   "id": "colonial-minutes",
   "metadata": {},
   "outputs": [],
   "source": [
    "response = requests.get(links[0])"
   ]
  },
  {
   "cell_type": "code",
   "execution_count": 49,
   "id": "coated-classics",
   "metadata": {},
   "outputs": [],
   "source": [
    "doc = bs(response.text,'html.parser')"
   ]
  },
  {
   "cell_type": "code",
   "execution_count": 50,
   "id": "marine-mathematics",
   "metadata": {},
   "outputs": [],
   "source": [
    "# find tab id and corresponding name for given link\n",
    "table_names = {}\n",
    "for tab_header in doc.find(\"div\", {\"class\": \"ajax__tab_header\"}):\n",
    "    try:    \n",
    "        tab_id = tab_header.get('id').rsplit('_',1)[0]\n",
    "        table_name = tab_header.get_text()\n",
    "        table_names[tab_id] = table_name\n",
    "        a = tab_id\n",
    "    except: pass"
   ]
  },
  {
   "cell_type": "code",
   "execution_count": 51,
   "id": "native-plasma",
   "metadata": {},
   "outputs": [
    {
     "data": {
      "text/plain": [
       "{'ContentPlaceHolder1_tcInfo_tpPanel1': 'Establishment Information',\n",
       " 'ContentPlaceHolder1_tcInfo_tpPanel2': 'Substances and Emergency Information',\n",
       " 'ContentPlaceHolder1_tcInfo_tpPanel3': 'Accident Hazards and Scenarios',\n",
       " 'ContentPlaceHolder1_tcInfo_tpPanel4': 'Consequences of Accident',\n",
       " 'ContentPlaceHolder1_tcInfo_tpPanel5': 'About COMAH Public Information'}"
      ]
     },
     "execution_count": 51,
     "metadata": {},
     "output_type": "execute_result"
    }
   ],
   "source": [
    "table_names"
   ]
  },
  {
   "cell_type": "code",
   "execution_count": 52,
   "id": "unknown-midwest",
   "metadata": {},
   "outputs": [
    {
     "name": "stdout",
     "output_type": "stream",
     "text": [
      "ContentPlaceHolder1_tcInfo_tpPanel1\n",
      "ContentPlaceHolder1_tcInfo_tpPanel2\n",
      "ContentPlaceHolder1_tcInfo_tpPanel3\n",
      "ContentPlaceHolder1_tcInfo_tpPanel4\n",
      "ContentPlaceHolder1_tcInfo_tpPanel5\n"
     ]
    }
   ],
   "source": [
    "for div in doc.find_all('div',{'class':'ajax__tab_panel'}):\n",
    "    print(div.get('id'))\n",
    "    table_html = div.find('table')"
   ]
  },
  {
   "cell_type": "code",
   "execution_count": 53,
   "id": "prime-tokyo",
   "metadata": {
    "collapsed": true,
    "jupyter": {
     "outputs_hidden": true
    }
   },
   "outputs": [
    {
     "name": "stdout",
     "output_type": "stream",
     "text": [
      "----------------------------------------------------------------------------------------------------\n",
      "[<td class=\"db\" colspan=\"2\">\n",
      "<strong>Operator</strong>\n",
      "</td>, <td class=\"db\" width=\"25%\">\n",
      "                           Operator Name\n",
      "                        </td>, <td class=\"dbdata\">\n",
      "<span id=\"ContentPlaceHolder1_tcInfo_tpPanel1_lblLegalName\"></span>\n",
      "</td>, <td class=\"db\">\n",
      "                           Trading As\n",
      "                        </td>, <td class=\"dbdata\">\n",
      "<span id=\"ContentPlaceHolder1_tcInfo_tpPanel1_lblTradeName\"></span>\n",
      "</td>, <td colspan=\"2\">\n",
      "                            \n",
      "                        </td>, <td class=\"db\" colspan=\"2\">\n",
      "<strong>Address</strong>\n",
      "</td>, <td class=\"db\">\n",
      "                           Establishment Name\n",
      "                        </td>, <td class=\"dbdata\">\n",
      "<span id=\"ContentPlaceHolder1_tcInfo_tpPanel1_lblEstablishmentName\"></span>\n",
      "</td>, <td class=\"db\" style=\"vertical-align: top\">\n",
      "                           Address\n",
      "                        </td>, <td class=\"dbdata\">\n",
      "<span id=\"ContentPlaceHolder1_tcInfo_tpPanel1_lblAddress1\"></span><br/>\n",
      "<span id=\"ContentPlaceHolder1_tcInfo_tpPanel1_lblAddress2\"></span><br/>\n",
      "<span id=\"ContentPlaceHolder1_tcInfo_tpPanel1_lblAddress3\"></span>\n",
      "</td>, <td class=\"db\">\n",
      "                           Town\n",
      "                        </td>, <td class=\"dbdata\">\n",
      "<span id=\"ContentPlaceHolder1_tcInfo_tpPanel1_lblTown\"></span>\n",
      "</td>, <td class=\"db\">\n",
      "                           County\n",
      "                        </td>, <td class=\"dbdata\">\n",
      "<span id=\"ContentPlaceHolder1_tcInfo_tpPanel1_lblCounty\"></span>\n",
      "</td>, <td class=\"db\">\n",
      "                           Post Code\n",
      "                        </td>, <td class=\"dbdata\">\n",
      "<span id=\"ContentPlaceHolder1_tcInfo_tpPanel1_lblPostcode\"></span>\n",
      "</td>, <td colspan=\"2\">\n",
      "                            \n",
      "                        </td>, <td class=\"db\" colspan=\"2\">\n",
      "<strong>Establishment</strong>\n",
      "</td>, <td class=\"db\">\n",
      "                           Is Establishment subject to COMAH Regulations?\n",
      "                        </td>, <td class=\"dbdata\">\n",
      "<span id=\"ContentPlaceHolder1_tcInfo_tpPanel1_lblSubjectToRegs\"></span>\n",
      "</td>, <td class=\"db\">\n",
      "                           Upper or Lower tier Establishment?\n",
      "                        </td>, <td class=\"dbdata\">\n",
      "<span id=\"ContentPlaceHolder1_tcInfo_tpPanel1_lblTierType\"></span>\n",
      "</td>, <td class=\"db\">\n",
      "                           Notification submitted to Competent Authority?\n",
      "                        </td>, <td class=\"dbdata\">\n",
      "<span id=\"ContentPlaceHolder1_tcInfo_tpPanel1_lblCaNotified\"></span>\n",
      "</td>, <td class=\"db\" style=\"vertical-align: top\">\n",
      "                           Activities at establishment\n",
      "                        </td>, <td class=\"dbdata\">\n",
      "<span id=\"ContentPlaceHolder1_tcInfo_tpPanel1_lblActivities\"></span>\n",
      "</td>, <td colspan=\"2\">\n",
      "                            \n",
      "                        </td>, <td class=\"db\" colspan=\"2\">\n",
      "<strong>Further Information</strong>\n",
      "</td>, <td class=\"db\">\n",
      "                           Date of last planned COMAH site visit by the Competent Authority\n",
      "                        </td>, <td class=\"dbdata\">\n",
      "<span id=\"ContentPlaceHolder1_tcInfo_tpPanel1_lblCaSiteVisit\"></span>\n",
      "</td>, <td class=\"db\">\n",
      "                           Inspection Plan\n",
      "                        </td>, <td class=\"dbdata\">\n",
      "                           You can obtain more detailed information about the inspection and the related inspection plan from the <a href=\"http://www.hse.gov.uk/comah/comah-establishments.htm\" id=\"ContentPlaceHolder1_tcInfo_tpPanel1_hlInspectionPlan\" target=\"_blank\">Competent Authority website</a><img alt=\"opens in new tab / window\" id=\"ContentPlaceHolder1_tcInfo_tpPanel1_imgInspectionPlan\" src=\"images/newwindow.gif\"/>\n",
      "</td>, <td class=\"db\">\n",
      "                           Further Relevant Information\n",
      "                        </td>, <td class=\"dbdata\">\n",
      "                           You can obtain more information from the operator of the establishment\n",
      "                        </td>]\n",
      "----------------------------------------------------------------------------------------------------\n",
      "[<td class=\"db\" colspan=\"2\">\n",
      "<strong>Information about relevant dangerous substances which could cause a major accident</strong>\n",
      "</td>, <td class=\"db\" style=\"vertical-align: top\" width=\"25%\">\n",
      "                           Hazard Classification of Relevant Dangerous Substances\n",
      "                        </td>, <td class=\"dbdata\">\n",
      "<span id=\"ContentPlaceHolder1_tcInfo_tpPanel2_lblHazardClassifications\"></span>\n",
      "</td>, <td class=\"db\" colspan=\"2\">\n",
      "                            \n",
      "                        </td>, <td class=\"db\" style=\"vertical-align: top\">\n",
      "                           Principle Dangerous Characteristics of These Substances In Simple Terms\n",
      "                        </td>, <td class=\"dbdata\">\n",
      "<span id=\"ContentPlaceHolder1_tcInfo_tpPanel2_lblPrincipleDangers\"></span>\n",
      "</td>, <td class=\"db\" colspan=\"2\">\n",
      "                            \n",
      "                        </td>, <td class=\"db\" colspan=\"2\">\n",
      "<strong>Emergency Information</strong><span id=\"ContentPlaceHolder1_tcInfo_tpPanel2_lblGenUpper\"><br/>The following general information does not replace any emergency information already provided if you live / work in close proximity to an upper-tier COMAH establishment.</span>\n",
      "</td>, <td class=\"db\" style=\"vertical-align: top\">\n",
      "                           How public will be warned\n",
      "                        </td>, <td class=\"dbdata\">\n",
      "<span id=\"ContentPlaceHolder1_tcInfo_tpPanel2_lblEmergencyActions\"></span>\n",
      "</td>, <td class=\"db\">\n",
      "                           Electronic source of information\n",
      "                        </td>, <td class=\"dbdata\">\n",
      "<a id=\"ContentPlaceHolder1_tcInfo_tpPanel2_hlEmergencyAction\" target=\"_blank\"></a><img alt=\"opens in new tab / window\" id=\"ContentPlaceHolder1_tcInfo_tpPanel2_imgEmergencyAction\" src=\"images/newwindow.gif\"/>\n",
      "</td>]\n",
      "----------------------------------------------------------------------------------------------------\n",
      "[<td class=\"db\" colspan=\"2\">\n",
      "                           All scenarios that could lead to a major accident have been identified and the necessary measures have been taken to prevent such accidents and limit their consequences to human health and the environment.<br/>\n",
      "                           All people who live or work close to the establishment (i.e. within the public information zone (PIZ)) who may be affected by a major accident have been provided with information on the actions they should take to protect themselves in the event of an emergency.\n",
      "                        </td>, <td class=\"db\" colspan=\"2\">\n",
      "                            \n",
      "                        </td>, <td class=\"db\" width=\"25%\">\n",
      "                           Safety Report submitted to Competent Authority?\n",
      "                        </td>, <td class=\"dbdata\">\n",
      "<span id=\"ContentPlaceHolder1_tcInfo_tpPanel3_lblSafetyReportSubmitted\"></span>\n",
      "</td>, <td class=\"db\" colspan=\"2\">\n",
      "                            \n",
      "                        </td>, <td class=\"db\" colspan=\"2\">\n",
      "<strong>Information about the major accident hazards and scenarios and the control measures in place at this establishment to address them</strong>\n",
      "</td>, <td class=\"db\" style=\"vertical-align: top\">\n",
      "                           Nature of major accident hazards\n",
      "                        </td>, <td class=\"dbdata\">\n",
      "<span id=\"ContentPlaceHolder1_tcInfo_tpPanel3_lblAccidentHazards\"></span>\n",
      "</td>, <td class=\"db\" colspan=\"2\">\n",
      "                            \n",
      "                        </td>, <td class=\"db\" style=\"vertical-align: top\">\n",
      "                           Main types of major accident scenarios\n",
      "                        </td>, <td class=\"dbdata\">\n",
      "<span id=\"ContentPlaceHolder1_tcInfo_tpPanel3_lblAccidentScenarios\"></span>\n",
      "</td>, <td class=\"db\" colspan=\"2\">\n",
      "                            \n",
      "                        </td>, <td class=\"db\" style=\"vertical-align: top\">\n",
      "                           Control measures to address accident scenarios\n",
      "                        </td>, <td class=\"dbdata\">\n",
      "<span id=\"ContentPlaceHolder1_tcInfo_tpPanel3_lblControlMeasures\"></span>\n",
      "</td>]\n",
      "----------------------------------------------------------------------------------------------------\n",
      "[<td class=\"db\" colspan=\"2\">\n",
      "<strong>The potential consequences of major accident hazards</strong>\n",
      "</td>, <td class=\"db\" style=\"vertical-align: top\" width=\"25%\">\n",
      "                           Potential consequences on Human Health\n",
      "                        </td>, <td class=\"dbdata\">\n",
      "<span id=\"ContentPlaceHolder1_tcInfo_tpPanel4_lblHumanHealth\"></span>\n",
      "</td>, <td class=\"db\" colspan=\"2\">\n",
      "                            \n",
      "                        </td>, <td class=\"db\" style=\"vertical-align: top\">\n",
      "                           Potential consequences on the Environment\n",
      "                        </td>, <td class=\"dbdata\">\n",
      "<span id=\"ContentPlaceHolder1_tcInfo_tpPanel4_lblEnvironments\"></span>\n",
      "</td>, <td class=\"db\" colspan=\"2\">\n",
      "                            \n",
      "                        </td>, <td class=\"db\" style=\"vertical-align: top\">\n",
      "                           Confirmation that arrangements are in place to deal with major accidents and minimise their consequences\n",
      "                        </td>, <td class=\"dbdata\">\n",
      "<span id=\"ContentPlaceHolder1_tcInfo_tpPanel4_lblArrangements\"></span>\n",
      "</td>, <td class=\"db\" colspan=\"2\">\n",
      "                            \n",
      "                        </td>, <td class=\"db\" style=\"vertical-align: top\">\n",
      "                           Appropriate information from the external emergency plan about consequences outside the establishment arising from a major accident\n",
      "                        </td>, <td class=\"dbdata\">\n",
      "<span id=\"ContentPlaceHolder1_tcInfo_tpPanel4_lblInformation\"></span><br/>\n",
      "                           Members of the public are advised to co-operate with any instructions or requests from emergency services in the event of an accident.\n",
      "                        </td>, <td class=\"db\" colspan=\"2\">\n",
      "                            \n",
      "                        </td>, <td class=\"db\">\n",
      "                           Could a major accident impact another EU Country?\n",
      "                        </td>, <td class=\"dbdata\">\n",
      "<span id=\"ContentPlaceHolder1_tcInfo_tpPanel4_lblImpactOtherMS\"></span>\n",
      "</td>]\n",
      "----------------------------------------------------------------------------------------------------\n",
      "[<td class=\"db\">\n",
      "<strong>Information for the public about an establishment subject to the Control of Major Accident Hazards Regulations 2015 (COMAH)</strong>\n",
      "</td>, <td class=\"db\">\n",
      "                           The system to provide public information about COMAH establishments in Great Britain (GB) has been made available to the public in a phased manner since 1 June 2015. The purpose of this new way of accessing information via a website is to enable people to find out about COMAH establishments in their local area.<br/>\n",
      "<br/>\n",
      "                           The information relates to operational establishments which are subject to the above Regulations because certain dangerous substances are present at or above the qualifying thresholds in the Regulations.<br/>\n",
      "<br/>\n",
      "                           The information will be specific to your search. It tells you about the type of business and the controls in place to minimise the likelihood of a major accident. You may take reassurance from the fact that many COMAH establishments have existed for a number of years and their operators understand the requirements placed on them to operate safely.<br/>\n",
      "<br/>\n",
      "                           Although the substances used or stored at COMAH establishments can be dangerous, the establishments are strictly regulated under the COMAH Regulations 2015 and have to manage their activities in a way which reduce risks to workers and the public. Operators must take all measures necessary to prevent major accidents and to limit their consequences for people and the environment. This is achieved through appropriate plant design, process control, mitigation measures and emergency procedures.<br/>\n",
      "<br/>\n",
      "                           The regulations are enforced by a Competent Authority which comprises jointly the Health and Safety Executive in GB and the relevant environment agency (the Environment Agency in England, Scottish Environment Protection Agency in Scotland and Natural Resources Body for Wales in Wales). Nuclear establishments are regulated by the Office for Nuclear Regulation and the relevant environment agency.<br/>\n",
      "<br/>\n",
      "                           There are two types (tiers) of establishment which are subject to COMAH, known as ‘Upper Tier’ and ‘Lower Tier’ depending on the quantity of dangerous substances they hold. Upper Tier establishments will hold greater quantities of dangerous substances meaning that additional requirements are placed on them by the Regulations.\n",
      "                        </td>]\n"
     ]
    }
   ],
   "source": [
    "for table in doc.find_all('table'):\n",
    "    print('-'*100)\n",
    "    print(table.find_all('td'))\n",
    "#     print(table_names)\n",
    "#     print('-'*100)\n",
    "#     for row in table.find_all('tr'):\n",
    "#         print(row)"
   ]
  },
  {
   "cell_type": "markdown",
   "id": "olympic-webster",
   "metadata": {},
   "source": [
    "# Main program"
   ]
  },
  {
   "cell_type": "code",
   "execution_count": null,
   "id": "indie-tobacco",
   "metadata": {},
   "outputs": [],
   "source": [
    "# for n,form in enumerate(forms,start=1):\n",
    "#     print('Form',n,'input elements')\n",
    "#     print('type',' '*6,'attributes',' '*40,'name','\\n'+'-'*100)\n",
    "#     for i in form.find_all(\"input\"):\n",
    "#         input_type = i['type']\n",
    "#         input_attrs = list(i.attrs.keys())\n",
    "#         s1 = input_type\n",
    "#         s2 = input_attrs\n",
    "#         s3 = i['name']\n",
    "#         pad12 = ' '*(10-len(s1))\n",
    "#         pad23 = ' '*(50-(len(str(s2))))\n",
    "#         print(s1,pad12,s2,pad23,s3)"
   ]
  }
 ],
 "metadata": {
  "kernelspec": {
   "display_name": "Python 3",
   "language": "python",
   "name": "python3"
  },
  "language_info": {
   "codemirror_mode": {
    "name": "ipython",
    "version": 3
   },
   "file_extension": ".py",
   "mimetype": "text/x-python",
   "name": "python",
   "nbconvert_exporter": "python",
   "pygments_lexer": "ipython3",
   "version": "3.8.2"
  },
  "toc-autonumbering": true,
  "toc-showcode": false
 },
 "nbformat": 4,
 "nbformat_minor": 5
}
