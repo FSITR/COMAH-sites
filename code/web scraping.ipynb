{
 "cells": [
  {
   "cell_type": "code",
   "execution_count": null,
   "id": "juvenile-assets",
   "metadata": {
    "jupyter": {
     "source_hidden": true
    }
   },
   "outputs": [],
   "source": [
    "# functions from https://www.thepythoncode.com/article/extracting-and-submitting-web-page-forms-in-python\n",
    "def get_all_forms(url):\n",
    "    \"\"\"Returns all form tags found on a web page's `url` \"\"\"\n",
    "    # GET request\n",
    "    res = session.get(url)\n",
    "    # for javascript driven website\n",
    "    # res.html.render()\n",
    "    soup = bs(res.html.html, \"html.parser\")\n",
    "    return soup.find_all(\"form\")\n",
    "\n",
    "def get_form_details(form):\n",
    "    \"\"\"Returns the HTML details of a form,\n",
    "    including action, method and list of form controls (inputs, etc)\"\"\"\n",
    "    details = {}\n",
    "    # get the form action (requested URL)\n",
    "    action = form.attrs.get(\"action\").lower()\n",
    "    # get the form method (POST, GET, DELETE, etc)\n",
    "    # if not specified, GET is the default in HTML\n",
    "    method = form.attrs.get(\"method\", \"get\").lower()\n",
    "    # get all form inputs\n",
    "    inputs = []\n",
    "    for input_tag in form.find_all(\"input\"):\n",
    "        # get type of input form control\n",
    "        input_type = input_tag.attrs.get(\"type\", \"text\")\n",
    "        # get name attribute\n",
    "        input_name = input_tag.attrs.get(\"name\")\n",
    "        # get the default value of that input tag\n",
    "        input_value =input_tag.attrs.get(\"value\", \"\")\n",
    "        # add everything to that list\n",
    "        inputs.append({\"type\": input_type, \"name\": input_name, \"value\": input_value})\n",
    "    # put everything to the resulting dictionary\n",
    "    details[\"action\"] = action\n",
    "    details[\"method\"] = method\n",
    "    details[\"inputs\"] = inputs\n",
    "    return details"
   ]
  },
  {
   "cell_type": "code",
   "execution_count": null,
   "id": "lyric-nerve",
   "metadata": {
    "jupyter": {
     "source_hidden": true
    }
   },
   "outputs": [],
   "source": [
    "def pretty_print(form_details,show_hidden=True):\n",
    "    for k in form_details.keys():\n",
    "        print(k)\n",
    "        res = form_details[k]\n",
    "        if type(res) == list:\n",
    "            if show_hidden == False and list(set(list(map(type,res))))[0]==dict:\n",
    "                res = list(filter(lambda d: d['type']!='hidden',res))\n",
    "            for v in res:\n",
    "                print('\\t',v)\n",
    "        else: print('\\t',res)\n",
    "        print()"
   ]
  },
  {
   "cell_type": "code",
   "execution_count": null,
   "id": "ambient-teens",
   "metadata": {
    "jupyter": {
     "source_hidden": true
    }
   },
   "outputs": [],
   "source": [
    "# url = 'https://notifications.hse.gov.uk/COMAH2015/Search.aspx'\n",
    "# forms = get_all_forms(url)\n",
    "# for n,f in enumerate(forms, start=1):\n",
    "#     form_details = get_form_details(f)\n",
    "#     print(\"=\"*50, f\"form #{i}\", \"=\"*50)\n",
    "#     pretty_print(form_details,show_hidden=False)"
   ]
  },
  {
   "cell_type": "code",
   "execution_count": 18,
   "id": "shared-death",
   "metadata": {
    "jupyter": {
     "source_hidden": true
    }
   },
   "outputs": [],
   "source": [
    "\n",
    "# # page = s.get(url)#,headers=headers)\n",
    "# # soup = bs(page.content)\n",
    "# #     data['__VIEWSTATE'] = soup.select_one('#__VIEWSTATE')['value']\n",
    "# #     data['__VIEWSTATEGENERATOR'] = soup.select_one('#__VIEWSTATEGENERATOR')['value']\n",
    "# #     data['__EVENTVALIDATION'] = soup.select_one('#__EVENTVALIDATION')['value']\n",
    "#     open_page = s.post(url, data=data)#,headers=headers)\n",
    "# #     open_page = s.get(url,headers=headers)\n",
    "\n",
    "# with open(\"requests_results.html\", \"w\",encoding=\"utf-8\") as f:\n",
    "#     f.write(open_page.text)"
   ]
  },
  {
   "cell_type": "markdown",
   "id": "previous-median",
   "metadata": {},
   "source": [
    "# Import modules"
   ]
  },
  {
   "cell_type": "code",
   "execution_count": 1,
   "id": "impaired-intervention",
   "metadata": {},
   "outputs": [],
   "source": [
    "from bs4 import BeautifulSoup as bs\n",
    "import requests\n",
    "import pandas as pd"
   ]
  },
  {
   "cell_type": "markdown",
   "id": "congressional-nickel",
   "metadata": {},
   "source": [
    "# Set variables"
   ]
  },
  {
   "cell_type": "code",
   "execution_count": 16,
   "id": "occupied-method",
   "metadata": {},
   "outputs": [],
   "source": [
    "url = 'https://notifications.hse.gov.uk/COMAH2015/Search.aspx'\n",
    "data = {'ctl00$ContentPlaceHolder1$Postcode':'M30 9LL',\n",
    "        'ctl00$ContentPlaceHolder1$btnSearch': 'Search'}"
   ]
  },
  {
   "cell_type": "code",
   "execution_count": 17,
   "id": "electrical-integration",
   "metadata": {
    "jupyter": {
     "source_hidden": true
    }
   },
   "outputs": [],
   "source": [
    "# headers = {'authority': 'notifications.hse.gov.uk',\n",
    "# 'method': 'POST',\n",
    "# 'path': '/comah2015/Search.aspx',\n",
    "# 'scheme': 'https',\n",
    "# 'accept': 'text/html,application/xhtml+xml,application/xml;q=0.9,image/avif,image/webp,image/apng,*/*;q=0.8,application/signed-exchange;v=b3;q=0.9',\n",
    "# 'accept-encoding': 'gzip, deflate, br',\n",
    "# 'accept-language': 'en-US,en;q=0.9',\n",
    "# 'cache-control': 'max-age=0',\n",
    "# 'content-length': '935',\n",
    "# 'content-type': 'application/x-www-form-urlencoded',\n",
    "# 'cookie': 'optInGoogleTracking=false; ASP.NET_SessionId=ml2h0awsujzsnxfe3e5bt1ua',\n",
    "# 'origin': 'https://notifications.hse.gov.uk',\n",
    "# 'referer': 'https://notifications.hse.gov.uk/comah2015/Search.aspx',\n",
    "# 'sec-ch-ua': '\"Chromium\";v=\"94\", \"Google Chrome\";v=\"94\", \";Not A Brand\";v=\"99\"',\n",
    "# 'sec-ch-ua-mobile': '?0',\n",
    "# 'sec-ch-ua-platform': '\"Windows\"',\n",
    "# 'sec-fetch-dest': 'document',\n",
    "# 'sec-fetch-mode': 'navigate',\n",
    "# 'sec-fetch-site': 'same-origin',\n",
    "# 'sec-fetch-user': '?1',\n",
    "# 'upgrade-insecure-requests': '1',\n",
    "# 'user-agent': 'Mozilla/5.0 (Windows NT 10.0; Win64; x64) AppleWebKit/537.36 (KHTML, like Gecko) Chrome/94.0.4606.61 Safari/537.36'}"
   ]
  },
  {
   "cell_type": "markdown",
   "id": "insured-buddy",
   "metadata": {},
   "source": [
    "# Define functions"
   ]
  },
  {
   "cell_type": "markdown",
   "id": "important-seafood",
   "metadata": {},
   "source": [
    "## Submit information to Form in URL"
   ]
  },
  {
   "cell_type": "code",
   "execution_count": 18,
   "id": "narrative-secret",
   "metadata": {},
   "outputs": [],
   "source": [
    "def submit form(url,data):\n",
    "    response = requests.get(url)\n",
    "    \n",
    "    soup = bs(response.content)\n",
    "    data['__VIEWSTATE'] = soup.select_one('#__VIEWSTATE')['value']\n",
    "    data['__VIEWSTATEGENERATOR'] = soup.select_one('#__VIEWSTATEGENERATOR')['value']\n",
    "    data['__EVENTVALIDATION'] = soup.select_one('#__EVENTVALIDATION')['value']\n",
    "\n",
    "    response = requests.post(url,data=data,headers=headers)\n",
    "    doc = bs(response.text, 'html.parser')\n",
    "    return doc"
   ]
  },
  {
   "cell_type": "code",
   "execution_count": null,
   "id": "brutal-bacon",
   "metadata": {},
   "outputs": [],
   "source": [
    "submit form(url,data)"
   ]
  },
  {
   "cell_type": "code",
   "execution_count": 32,
   "id": "emerging-brunswick",
   "metadata": {
    "jupyter": {
     "source_hidden": true
    }
   },
   "outputs": [],
   "source": [
    "# with requests.Session() as s:\n",
    "#     response = s.get(url)\n",
    "\n",
    "#     soup = bs(response.content)\n",
    "#     data['__VIEWSTATE'] = soup.select_one('#__VIEWSTATE')['value']\n",
    "#     data['__VIEWSTATEGENERATOR'] = soup.select_one('#__VIEWSTATEGENERATOR')['value']\n",
    "#     data['__EVENTVALIDATION'] = soup.select_one('#__EVENTVALIDATION')['value']\n",
    "    \n",
    "#     response = s.post(url,data=data,headers=headers)\n",
    "#     doc = bs(response.text, 'html.parser')"
   ]
  },
  {
   "cell_type": "markdown",
   "id": "proved-somalia",
   "metadata": {},
   "source": [
    "# Peform check"
   ]
  },
  {
   "cell_type": "code",
   "execution_count": 85,
   "id": "temporal-response",
   "metadata": {},
   "outputs": [],
   "source": [
    "def check_results_page(doc):\n",
    "    if 'You are in: COMAH 2015 » Search' in doc.text:\n",
    "        res = 'ERROR - page is \"Search\"'\n",
    "    elif 'You are in: COMAH 2015 » Reults' in doc.text:   \n",
    "        res = 'OK - page is \"Results\"'\n",
    "    return res"
   ]
  },
  {
   "cell_type": "code",
   "execution_count": 86,
   "id": "chubby-rocket",
   "metadata": {},
   "outputs": [
    {
     "data": {
      "text/plain": [
       "'ERROR - page is \"Search\"'"
      ]
     },
     "execution_count": 86,
     "metadata": {},
     "output_type": "execute_result"
    }
   ],
   "source": [
    "check_results_page(doc)"
   ]
  },
  {
   "cell_type": "markdown",
   "id": "broadband-upper",
   "metadata": {},
   "source": [
    "# Get links from results page"
   ]
  },
  {
   "cell_type": "code",
   "execution_count": 6,
   "id": "needed-jordan",
   "metadata": {},
   "outputs": [],
   "source": [
    "def get_links_from_results(result_html):\n",
    "    res=[]\n",
    "    for link_element in doc.find_all('a'):\n",
    "        link = link_element.get('href')\n",
    "        if link != None and 'PublicInformation' in link:\n",
    "            link = 'https://notifications.hse.gov.uk/comah2015/'+link\n",
    "            res.append(link)\n",
    "    return res"
   ]
  },
  {
   "cell_type": "code",
   "execution_count": null,
   "id": "dramatic-bandwidth",
   "metadata": {},
   "outputs": [],
   "source": [
    "links = get_links_from_results(doc)"
   ]
  },
  {
   "cell_type": "markdown",
   "id": "portuguese-malpractice",
   "metadata": {},
   "source": [
    "# Extract tables from links"
   ]
  },
  {
   "cell_type": "markdown",
   "id": "military-smart",
   "metadata": {},
   "source": [
    "continue with a single 'response' for now..."
   ]
  },
  {
   "cell_type": "code",
   "execution_count": 42,
   "id": "bigger-voltage",
   "metadata": {},
   "outputs": [],
   "source": [
    "response = requests.get(links[0])"
   ]
  },
  {
   "cell_type": "code",
   "execution_count": 8,
   "id": "residential-trainer",
   "metadata": {},
   "outputs": [],
   "source": [
    "doc = bs(response.text,'html.parser')"
   ]
  },
  {
   "cell_type": "code",
   "execution_count": 7,
   "id": "distributed-delivery",
   "metadata": {},
   "outputs": [
    {
     "ename": "TypeError",
     "evalue": "'NoneType' object is not iterable",
     "output_type": "error",
     "traceback": [
      "\u001b[1;31m---------------------------------------------------------------------------\u001b[0m",
      "\u001b[1;31mTypeError\u001b[0m                                 Traceback (most recent call last)",
      "\u001b[1;32m<ipython-input-7-3b8c326a8bd0>\u001b[0m in \u001b[0;36m<module>\u001b[1;34m\u001b[0m\n\u001b[0;32m      1\u001b[0m \u001b[1;31m# find tab id and corresponding name\u001b[0m\u001b[1;33m\u001b[0m\u001b[1;33m\u001b[0m\u001b[1;33m\u001b[0m\u001b[0m\n\u001b[0;32m      2\u001b[0m \u001b[0mtable_names\u001b[0m \u001b[1;33m=\u001b[0m \u001b[1;33m{\u001b[0m\u001b[1;33m}\u001b[0m\u001b[1;33m\u001b[0m\u001b[1;33m\u001b[0m\u001b[0m\n\u001b[1;32m----> 3\u001b[1;33m \u001b[1;32mfor\u001b[0m \u001b[0mtab_header\u001b[0m \u001b[1;32min\u001b[0m \u001b[0mdoc\u001b[0m\u001b[1;33m.\u001b[0m\u001b[0mfind\u001b[0m\u001b[1;33m(\u001b[0m\u001b[1;34m\"div\"\u001b[0m\u001b[1;33m,\u001b[0m \u001b[1;33m{\u001b[0m\u001b[1;34m\"class\"\u001b[0m\u001b[1;33m:\u001b[0m \u001b[1;34m\"ajax__tab_header\"\u001b[0m\u001b[1;33m}\u001b[0m\u001b[1;33m)\u001b[0m\u001b[1;33m:\u001b[0m\u001b[1;33m\u001b[0m\u001b[1;33m\u001b[0m\u001b[0m\n\u001b[0m\u001b[0;32m      4\u001b[0m     \u001b[1;32mtry\u001b[0m\u001b[1;33m:\u001b[0m\u001b[1;33m\u001b[0m\u001b[1;33m\u001b[0m\u001b[0m\n\u001b[0;32m      5\u001b[0m         \u001b[0mtab_id\u001b[0m \u001b[1;33m=\u001b[0m \u001b[0mtab_header\u001b[0m\u001b[1;33m.\u001b[0m\u001b[0mget\u001b[0m\u001b[1;33m(\u001b[0m\u001b[1;34m'id'\u001b[0m\u001b[1;33m)\u001b[0m\u001b[1;33m.\u001b[0m\u001b[0mrsplit\u001b[0m\u001b[1;33m(\u001b[0m\u001b[1;34m'_'\u001b[0m\u001b[1;33m,\u001b[0m\u001b[1;36m1\u001b[0m\u001b[1;33m)\u001b[0m\u001b[1;33m[\u001b[0m\u001b[1;36m0\u001b[0m\u001b[1;33m]\u001b[0m\u001b[1;33m\u001b[0m\u001b[1;33m\u001b[0m\u001b[0m\n",
      "\u001b[1;31mTypeError\u001b[0m: 'NoneType' object is not iterable"
     ]
    }
   ],
   "source": [
    "# find tab id and corresponding name for given link\n",
    "table_names = {}\n",
    "for tab_header in doc.find(\"div\", {\"class\": \"ajax__tab_header\"}):\n",
    "    try:    \n",
    "        tab_id = tab_header.get('id').rsplit('_',1)[0]\n",
    "        table_name = tab_header.get_text()\n",
    "        table_names[tab_id] = table_name\n",
    "        a = tab_id\n",
    "    except: pass"
   ]
  },
  {
   "cell_type": "code",
   "execution_count": 8,
   "id": "wicked-payday",
   "metadata": {},
   "outputs": [
    {
     "data": {
      "text/plain": [
       "{}"
      ]
     },
     "execution_count": 8,
     "metadata": {},
     "output_type": "execute_result"
    }
   ],
   "source": [
    "table_names"
   ]
  },
  {
   "cell_type": "code",
   "execution_count": 254,
   "id": "palestinian-bidder",
   "metadata": {},
   "outputs": [
    {
     "name": "stdout",
     "output_type": "stream",
     "text": [
      "ContentPlaceHolder1_tcInfo_tpPanel1\n",
      "ContentPlaceHolder1_tcInfo_tpPanel2\n",
      "ContentPlaceHolder1_tcInfo_tpPanel3\n",
      "ContentPlaceHolder1_tcInfo_tpPanel4\n",
      "ContentPlaceHolder1_tcInfo_tpPanel5\n"
     ]
    }
   ],
   "source": [
    "for div in doc.find_all('div',{'class':'ajax__tab_panel'}):\n",
    "    print(div.get('id'))\n",
    "    table_html = div.find('table')"
   ]
  },
  {
   "cell_type": "code",
   "execution_count": 81,
   "id": "trying-strength",
   "metadata": {},
   "outputs": [],
   "source": [
    "for table in doc.find_all('table'):\n",
    "    print('-'*100)\n",
    "    print(table.find_all('td'))\n",
    "#     print(table_names)\n",
    "#     print('-'*100)\n",
    "#     for row in table.find_all('tr'):\n",
    "#         print(row)"
   ]
  },
  {
   "cell_type": "markdown",
   "id": "practical-beverage",
   "metadata": {},
   "source": [
    "# Main program"
   ]
  },
  {
   "cell_type": "code",
   "execution_count": null,
   "id": "liberal-bowling",
   "metadata": {},
   "outputs": [],
   "source": [
    "# for n,form in enumerate(forms,start=1):\n",
    "#     print('Form',n,'input elements')\n",
    "#     print('type',' '*6,'attributes',' '*40,'name','\\n'+'-'*100)\n",
    "#     for i in form.find_all(\"input\"):\n",
    "#         input_type = i['type']\n",
    "#         input_attrs = list(i.attrs.keys())\n",
    "#         s1 = input_type\n",
    "#         s2 = input_attrs\n",
    "#         s3 = i['name']\n",
    "#         pad12 = ' '*(10-len(s1))\n",
    "#         pad23 = ' '*(50-(len(str(s2))))\n",
    "#         print(s1,pad12,s2,pad23,s3)"
   ]
  }
 ],
 "metadata": {
  "kernelspec": {
   "display_name": "Python 3",
   "language": "python",
   "name": "python3"
  },
  "language_info": {
   "codemirror_mode": {
    "name": "ipython",
    "version": 3
   },
   "file_extension": ".py",
   "mimetype": "text/x-python",
   "name": "python",
   "nbconvert_exporter": "python",
   "pygments_lexer": "ipython3",
   "version": "3.8.2"
  },
  "toc-autonumbering": true,
  "toc-showcode": false
 },
 "nbformat": 4,
 "nbformat_minor": 5
}
